{
  "nbformat": 4,
  "nbformat_minor": 0,
  "metadata": {
    "kernelspec": {
      "name": "python3",
      "display_name": "Python 3",
      "language": "python"
    },
    "language_info": {
      "name": "python",
      "version": "3.7.6",
      "mimetype": "text/x-python",
      "codemirror_mode": {
        "name": "ipython",
        "version": 3
      },
      "pygments_lexer": "ipython3",
      "nbconvert_exporter": "python",
      "file_extension": ".py"
    },
    "colab": {
      "name": "mlp-simples-com-keras.ipynb",
      "provenance": [],
      "include_colab_link": true
    }
  },
  "cells": [
    {
      "cell_type": "markdown",
      "metadata": {
        "id": "view-in-github",
        "colab_type": "text"
      },
      "source": [
        "<a href=\"https://colab.research.google.com/github/jscienciadados/MLP/blob/main/mlp_simples_com_keras.ipynb\" target=\"_parent\"><img src=\"https://colab.research.google.com/assets/colab-badge.svg\" alt=\"Open In Colab\"/></a>"
      ]
    },
    {
      "cell_type": "markdown",
      "metadata": {
        "id": "pXAOZlV_SGiG"
      },
      "source": [
        "# Introdução"
      ]
    },
    {
      "cell_type": "markdown",
      "metadata": {
        "id": "SqeknwrhSGiM"
      },
      "source": [
        "**Resumo:**\n",
        "\n",
        "O exemplo aqui desenvolvido tem como objetivo apresentar conceitos iniciais de implementação de redes neurais com python e tensorflow/keras. Esse modelo apresenta um modelo MLP básico que pode ser expandido mudando o número de neurônios e camadas. Em adaptações mais avançadas, pode-se estudar possibilidade de otimização de hyperparâmetros e outras técnincas como aumento de dados.\n",
        "\n",
        "**Não é objetivo nosso desenvolver e otimizar o modelo de classificação**. O exemplo tem objetivo meramente didático.\n",
        "\n",
        "---\n",
        "\n",
        "**Para saber mais:**\n",
        "\n",
        "* François Chollet. Deep Learning with Python. Manning Publications, 2017.\n",
        "* Ian Goodfellow and Yoshua Bengio and Aaron Courville. [Deep Learning](https://www.deeplearningbook.org/). MIT Press, 2016."
      ]
    },
    {
      "cell_type": "markdown",
      "metadata": {
        "id": "MbvL8j9USGiO"
      },
      "source": [
        "# Bibliotecas e Dados"
      ]
    },
    {
      "cell_type": "code",
      "metadata": {
        "ExecuteTime": {
          "end_time": "2019-01-16T20:39:41.500258Z",
          "start_time": "2019-01-16T20:39:39.261856Z"
        },
        "trusted": true,
        "id": "Skq5cMkISGiP"
      },
      "source": [
        "# Bibliotecas necessárias\n",
        "# Manipulação de dados\n",
        "import pandas as pd\n",
        "# Redes Neurais\n",
        "from tensorflow import keras\n",
        "from tensorflow.keras.datasets import mnist\n",
        "from tensorflow.keras.models import Sequential\n",
        "from tensorflow.keras.layers import Dense, Dropout\n",
        "from tensorflow.keras.optimizers import RMSprop\n",
        "# Plot\n",
        "import matplotlib.pyplot as plt\n",
        "%matplotlib inline\n",
        "# Avaliação\n",
        "from sklearn.metrics import classification_report, confusion_matrix"
      ],
      "execution_count": 19,
      "outputs": []
    },
    {
      "cell_type": "code",
      "metadata": {
        "trusted": true,
        "id": "UwVJLUVdSGiQ"
      },
      "source": [
        "# Lendo o dataset Google Colab\n",
        "train = pd.read_csv(\"input/train.csv\")\n",
        "\n",
        "#Alternativa ler do próprio keras\n",
        "#(x_train, y_train), (x_test, y_test) = mnist.load_data()\n"
      ],
      "execution_count": 32,
      "outputs": []
    },
    {
      "cell_type": "code",
      "metadata": {
        "trusted": true,
        "colab": {
          "base_uri": "https://localhost:8080/"
        },
        "id": "wl_aAay3SGiR",
        "outputId": "75136f31-351f-41a1-a99a-905ba6300e97"
      },
      "source": [
        "# Analisando o dataset\n",
        "print(\"Quantidade de elementos de treino: {}\". format(len(train)))\n",
        "#print(train.head())"
      ],
      "execution_count": 34,
      "outputs": [
        {
          "output_type": "stream",
          "text": [
            "Quantidade de elementos de treino: 42000\n"
          ],
          "name": "stdout"
        }
      ]
    },
    {
      "cell_type": "code",
      "metadata": {
        "trusted": true,
        "id": "AwK-SqVtSGiS"
      },
      "source": [
        "# Separando x_train e y_train\n",
        "Y = train[\"label\"]\n",
        "X = train.drop(labels = [\"label\"],axis = 1)\n",
        "#print(X.head())\n",
        "# Em formato numpy array de imagens 28 x 28\n",
        "#x = X.values.reshape(-1,28,28,1)\n",
        "#print(x[0])"
      ],
      "execution_count": 35,
      "outputs": []
    },
    {
      "cell_type": "code",
      "metadata": {
        "trusted": true,
        "colab": {
          "base_uri": "https://localhost:8080/"
        },
        "id": "0Du4pDTLSGiT",
        "outputId": "0210c59d-f266-4915-89f6-0407f87454db"
      },
      "source": [
        "print(Y)"
      ],
      "execution_count": 36,
      "outputs": [
        {
          "output_type": "stream",
          "text": [
            "0        1\n",
            "1        0\n",
            "2        1\n",
            "3        4\n",
            "4        0\n",
            "        ..\n",
            "41995    0\n",
            "41996    1\n",
            "41997    7\n",
            "41998    6\n",
            "41999    9\n",
            "Name: label, Length: 42000, dtype: int64\n"
          ],
          "name": "stdout"
        }
      ]
    },
    {
      "cell_type": "code",
      "metadata": {
        "ExecuteTime": {
          "end_time": "2019-01-08T20:49:47.144492Z",
          "start_time": "2019-01-08T20:49:47.016025Z"
        },
        "trusted": true,
        "colab": {
          "base_uri": "https://localhost:8080/",
          "height": 282
        },
        "id": "KG6-qqZgSGiU",
        "outputId": "0f78ceb8-4475-4f8e-c6d7-c1a49a06b7f1"
      },
      "source": [
        "# Numtendi nada!\n",
        "# Bora ver com matplotlib\n",
        "plt.imshow(X.values[100].reshape(28,28), cmap=plt.cm.binary)\n",
        "plt.show()\n",
        "print('Label: {}'.format(Y[100]))"
      ],
      "execution_count": 37,
      "outputs": [
        {
          "output_type": "display_data",
          "data": {
            "image/png": "[encoded data removed]",
            "text/plain": [
              "<Figure size 432x288 with 1 Axes>"
            ]
          },
          "metadata": {
            "tags": [],
            "needs_background": "light"
          }
        },
        {
          "output_type": "stream",
          "text": [
            "Label: 9\n"
          ],
          "name": "stdout"
        }
      ]
    },
    {
      "cell_type": "code",
      "metadata": {
        "colab": {
          "base_uri": "https://localhost:8080/"
        },
        "id": "v9fWQqwZWbnf",
        "outputId": "c8dc40e6-b101-447b-f520-2cd810d4bb6d"
      },
      "source": [
        "print(len(x_train))"
      ],
      "execution_count": 28,
      "outputs": [
        {
          "output_type": "stream",
          "text": [
            "60000\n"
          ],
          "name": "stdout"
        }
      ]
    },
    {
      "cell_type": "code",
      "metadata": {
        "ExecuteTime": {
          "end_time": "2019-01-08T20:49:57.425537Z",
          "start_time": "2019-01-08T20:49:57.272377Z"
        },
        "trusted": true,
        "id": "wu8Ljs8oSGiU"
      },
      "source": [
        "# Transformando a imagem 2d em um numpy array (imagem 28*28 = 784 pixels)\n",
        "x = X.values.reshape(42000, 784)\n",
        "\n",
        "#Normalizando para valores entre 0 e 1\n",
        "x = x.astype('float32')\n",
        "x /= 255\n",
        "\n",
        "#print(x[0]) -> somente se quiser visualizar o digito"
      ],
      "execution_count": 38,
      "outputs": []
    },
    {
      "cell_type": "code",
      "metadata": {
        "ExecuteTime": {
          "end_time": "2019-01-08T20:50:48.007428Z",
          "start_time": "2019-01-08T20:50:47.986527Z"
        },
        "trusted": true,
        "colab": {
          "base_uri": "https://localhost:8080/"
        },
        "id": "yY2P1zqdSGiV",
        "outputId": "5037d73f-e383-4595-ff6f-859e4ec01c28"
      },
      "source": [
        "# Vamos ajustar o formato da saida\n",
        "num_classes = 10\n",
        "\n",
        "# Convertendo para um vetor de saida com 10 dimensoes\n",
        "# ex. 8 => [0,0,0,0,0,0,0,0,1,0]\n",
        "y = keras.utils.to_categorical(Y, num_classes)\n",
        "print(y[0])"
      ],
      "execution_count": 39,
      "outputs": [
        {
          "output_type": "stream",
          "text": [
            "[0. 1. 0. 0. 0. 0. 0. 0. 0. 0.]\n"
          ],
          "name": "stdout"
        }
      ]
    },
    {
      "cell_type": "code",
      "metadata": {
        "trusted": true,
        "colab": {
          "base_uri": "https://localhost:8080/"
        },
        "id": "kiUyCuG_SGiW",
        "outputId": "f847fe2c-0de7-42e3-df6f-c8b505b6bf79"
      },
      "source": [
        "# Separando uma parte para treino (90%) e outra para validação (10%)\n",
        "from sklearn.model_selection import train_test_split\n",
        "x_train, x_val, y_train, y_val = train_test_split(x, y, test_size = 0.1, random_state=9)\n",
        "print('Qtde de treino: {}'.format(len(x_train)))\n",
        "print('Qtde de validação: {}'.format(len(x_val)))"
      ],
      "execution_count": 40,
      "outputs": [
        {
          "output_type": "stream",
          "text": [
            "Qtde de treino: 37800\n",
            "Qtde de validação: 4200\n"
          ],
          "name": "stdout"
        }
      ]
    },
    {
      "cell_type": "markdown",
      "metadata": {
        "id": "cFt8h09bSGiX"
      },
      "source": [
        "# Criando e treinando o Modelo"
      ]
    },
    {
      "cell_type": "code",
      "metadata": {
        "ExecuteTime": {
          "end_time": "2019-01-08T21:38:00.233865Z",
          "start_time": "2019-01-08T21:38:00.15079Z"
        },
        "scrolled": true,
        "trusted": true,
        "colab": {
          "base_uri": "https://localhost:8080/"
        },
        "id": "R4zIt3nESGiY",
        "outputId": "2eba270e-8e19-4a70-fcfb-d98ad56294ec"
      },
      "source": [
        "# Criando o modelo Sequential\n",
        "# Sequential: Modelo Keras de ir adicionando camadas (como um lego)\n",
        "# Dense: Camada onde todas as entradas estão conectadas em cada neurônio (totalmente conectada)\n",
        "# Dropout: Camada usa durante treino que descarta aleatoriamente um percentual de conexões (reduz overfitting)\n",
        "\n",
        "model = Sequential()\n",
        "# Camada com 30 neurônios\n",
        "model.add(Dense(30, activation='relu', input_shape=(784,)))\n",
        "# Dropout de 20%\n",
        "model.add(Dropout(0.2))\n",
        "# Camada de 20 neurônios\n",
        "model.add(Dense(40, activation='relu'))\n",
        "model.add(Dense(30, activation='relu'))\n",
        "# Dropout de 20%\n",
        "model.add(Dropout(0.2))\n",
        "# Camda de classificação final, com 1 neurônio para cada classe de saída. Softmax divide a probabilidade de cada classe.\n",
        "model.add(Dense(num_classes, activation='softmax'))\n",
        "\n",
        "model.summary()"
      ],
      "execution_count": 41,
      "outputs": [
        {
          "output_type": "stream",
          "text": [
            "Model: \"sequential_1\"\n",
            "_________________________________________________________________\n",
            "Layer (type)                 Output Shape              Param #   \n",
            "=================================================================\n",
            "dense_4 (Dense)              (None, 30)                23550     \n",
            "_________________________________________________________________\n",
            "dropout_2 (Dropout)          (None, 30)                0         \n",
            "_________________________________________________________________\n",
            "dense_5 (Dense)              (None, 40)                1240      \n",
            "_________________________________________________________________\n",
            "dense_6 (Dense)              (None, 30)                1230      \n",
            "_________________________________________________________________\n",
            "dropout_3 (Dropout)          (None, 30)                0         \n",
            "_________________________________________________________________\n",
            "dense_7 (Dense)              (None, 10)                310       \n",
            "=================================================================\n",
            "Total params: 26,330\n",
            "Trainable params: 26,330\n",
            "Non-trainable params: 0\n",
            "_________________________________________________________________\n"
          ],
          "name": "stdout"
        }
      ]
    },
    {
      "cell_type": "code",
      "metadata": {
        "ExecuteTime": {
          "end_time": "2019-01-08T21:33:17.184644Z",
          "start_time": "2019-01-08T21:33:17.129141Z"
        },
        "trusted": true,
        "id": "gGMomcJASGiZ"
      },
      "source": [
        "# Compila o modelo\n",
        "model.compile(loss='categorical_crossentropy',\n",
        "              optimizer=RMSprop(),\n",
        "              metrics=['accuracy'])"
      ],
      "execution_count": 42,
      "outputs": []
    },
    {
      "cell_type": "code",
      "metadata": {
        "ExecuteTime": {
          "end_time": "2019-01-08T21:36:15.501168Z",
          "start_time": "2019-01-08T21:33:19.322895Z"
        },
        "trusted": true,
        "colab": {
          "base_uri": "https://localhost:8080/"
        },
        "id": "cpbB8av_SGiZ",
        "outputId": "5ac8756d-8b88-4614-dca4-1bad9ba31db4"
      },
      "source": [
        "# Treina com os parte dos dados\n",
        "batch_size = 32\n",
        "epochs = 20\n",
        "history = model.fit(x_train, y_train,\n",
        "                    batch_size=batch_size,\n",
        "                    epochs=epochs,\n",
        "                    verbose=1,\n",
        "                    validation_data=(x_val, y_val))"
      ],
      "execution_count": 43,
      "outputs": [
        {
          "output_type": "stream",
          "text": [
            "Epoch 1/20\n",
            "1182/1182 [==============================] - 3s 2ms/step - loss: 1.0591 - accuracy: 0.6548 - val_loss: 0.2962 - val_accuracy: 0.9152\n",
            "Epoch 2/20\n",
            "1182/1182 [==============================] - 2s 2ms/step - loss: 0.3886 - accuracy: 0.8859 - val_loss: 0.2296 - val_accuracy: 0.9369\n",
            "Epoch 3/20\n",
            "1182/1182 [==============================] - 2s 2ms/step - loss: 0.3293 - accuracy: 0.9049 - val_loss: 0.2274 - val_accuracy: 0.9352\n",
            "Epoch 4/20\n",
            "1182/1182 [==============================] - 2s 2ms/step - loss: 0.3047 - accuracy: 0.9111 - val_loss: 0.1994 - val_accuracy: 0.9429\n",
            "Epoch 5/20\n",
            "1182/1182 [==============================] - 2s 2ms/step - loss: 0.2896 - accuracy: 0.9177 - val_loss: 0.2057 - val_accuracy: 0.9476\n",
            "Epoch 6/20\n",
            "1182/1182 [==============================] - 2s 2ms/step - loss: 0.2660 - accuracy: 0.9263 - val_loss: 0.1960 - val_accuracy: 0.9476\n",
            "Epoch 7/20\n",
            "1182/1182 [==============================] - 2s 2ms/step - loss: 0.2557 - accuracy: 0.9276 - val_loss: 0.1920 - val_accuracy: 0.9512\n",
            "Epoch 8/20\n",
            "1182/1182 [==============================] - 2s 2ms/step - loss: 0.2580 - accuracy: 0.9275 - val_loss: 0.2000 - val_accuracy: 0.9479\n",
            "Epoch 9/20\n",
            "1182/1182 [==============================] - 2s 2ms/step - loss: 0.2579 - accuracy: 0.9291 - val_loss: 0.1931 - val_accuracy: 0.9476\n",
            "Epoch 10/20\n",
            "1182/1182 [==============================] - 2s 2ms/step - loss: 0.2410 - accuracy: 0.9332 - val_loss: 0.1815 - val_accuracy: 0.9543\n",
            "Epoch 11/20\n",
            "1182/1182 [==============================] - 2s 2ms/step - loss: 0.2472 - accuracy: 0.9322 - val_loss: 0.1886 - val_accuracy: 0.9490\n",
            "Epoch 12/20\n",
            "1182/1182 [==============================] - 2s 2ms/step - loss: 0.2401 - accuracy: 0.9358 - val_loss: 0.1793 - val_accuracy: 0.9548\n",
            "Epoch 13/20\n",
            "1182/1182 [==============================] - 2s 2ms/step - loss: 0.2357 - accuracy: 0.9372 - val_loss: 0.1907 - val_accuracy: 0.9467\n",
            "Epoch 14/20\n",
            "1182/1182 [==============================] - 2s 2ms/step - loss: 0.2404 - accuracy: 0.9371 - val_loss: 0.1851 - val_accuracy: 0.9548\n",
            "Epoch 15/20\n",
            "1182/1182 [==============================] - 2s 2ms/step - loss: 0.2475 - accuracy: 0.9370 - val_loss: 0.1929 - val_accuracy: 0.9540\n",
            "Epoch 16/20\n",
            "1182/1182 [==============================] - 2s 2ms/step - loss: 0.2368 - accuracy: 0.9384 - val_loss: 0.1978 - val_accuracy: 0.9531\n",
            "Epoch 17/20\n",
            "1182/1182 [==============================] - 2s 2ms/step - loss: 0.2466 - accuracy: 0.9381 - val_loss: 0.1903 - val_accuracy: 0.9495\n",
            "Epoch 18/20\n",
            "1182/1182 [==============================] - 2s 2ms/step - loss: 0.2489 - accuracy: 0.9353 - val_loss: 0.2009 - val_accuracy: 0.9517\n",
            "Epoch 19/20\n",
            "1182/1182 [==============================] - 2s 2ms/step - loss: 0.2580 - accuracy: 0.9344 - val_loss: 0.2047 - val_accuracy: 0.9488\n",
            "Epoch 20/20\n",
            "1182/1182 [==============================] - 2s 2ms/step - loss: 0.2575 - accuracy: 0.9367 - val_loss: 0.2058 - val_accuracy: 0.9514\n"
          ],
          "name": "stdout"
        }
      ]
    },
    {
      "cell_type": "code",
      "metadata": {
        "ExecuteTime": {
          "end_time": "2019-01-08T21:36:20.243921Z",
          "start_time": "2019-01-08T21:36:20.064201Z"
        },
        "trusted": true,
        "colab": {
          "base_uri": "https://localhost:8080/",
          "height": 483
        },
        "id": "jn0Ts_-VSGia",
        "outputId": "5d96c463-66f4-4ca5-f4f0-35df47813af3"
      },
      "source": [
        "#Vamos ver como foi o treino?\n",
        "\n",
        "fig, ax = plt.subplots(1,2, figsize=(16,8))\n",
        "ax[0].plot(history.history['loss'], color='b', label=\"Training loss\")\n",
        "ax[0].plot(history.history['val_loss'], color='r', label=\"validation loss\",axes =ax[0])\n",
        "legend = ax[0].legend(loc='best', shadow=True)\n",
        "\n",
        "ax[1].plot(history.history['accuracy'], color='b', label=\"Training accuracy\")\n",
        "ax[1].plot(history.history['val_accuracy'], color='r',label=\"Validation accuracy\")\n",
        "legend = ax[1].legend(loc='best', shadow=True)"
      ],
      "execution_count": 44,
      "outputs": [
        {
          "output_type": "display_data",
          "data": {
            "image/png": "[encoded data removed]",
            "text/plain": [
              "<Figure size 1152x576 with 2 Axes>"
            ]
          },
          "metadata": {
            "tags": [],
            "needs_background": "light"
          }
        }
      ]
    },
    {
      "cell_type": "code",
      "metadata": {
        "ExecuteTime": {
          "end_time": "2019-01-08T21:36:39.779842Z",
          "start_time": "2019-01-08T21:36:38.946173Z"
        },
        "trusted": true,
        "colab": {
          "base_uri": "https://localhost:8080/"
        },
        "id": "_tnT6q5eSGib",
        "outputId": "bb5bf7b1-1ceb-4e4d-e585-8047a5ca52ac"
      },
      "source": [
        "# Testa\n",
        "score = model.evaluate(x_val, y_val, verbose=0)\n",
        "print('Test loss:', score[0])\n",
        "print('Test accuracy:', score[1])"
      ],
      "execution_count": 45,
      "outputs": [
        {
          "output_type": "stream",
          "text": [
            "Test loss: 0.2057768851518631\n",
            "Test accuracy: 0.9514285922050476\n"
          ],
          "name": "stdout"
        }
      ]
    },
    {
      "cell_type": "code",
      "metadata": {
        "trusted": true,
        "colab": {
          "base_uri": "https://localhost:8080/"
        },
        "id": "y6Ln9PI1SGic",
        "outputId": "02754cf8-ed3e-418f-d96f-238b1d284792"
      },
      "source": [
        "Y[10]"
      ],
      "execution_count": 46,
      "outputs": [
        {
          "output_type": "execute_result",
          "data": {
            "text/plain": [
              "8"
            ]
          },
          "metadata": {
            "tags": []
          },
          "execution_count": 46
        }
      ]
    },
    {
      "cell_type": "code",
      "metadata": {
        "ExecuteTime": {
          "end_time": "2019-01-08T21:06:04.363715Z",
          "start_time": "2019-01-08T21:06:04.27849Z"
        },
        "trusted": true,
        "colab": {
          "base_uri": "https://localhost:8080/"
        },
        "id": "Wfdre23LSGid",
        "outputId": "8f75df5c-6a04-4f1d-a6a6-062850d54753"
      },
      "source": [
        "# Testando uma entrada qualquer\n",
        "print(y_train[10])\n",
        "print(model.predict(x_train[10].reshape((1,784))))\n",
        "print(model.predict_classes(x_train[10].reshape((1,784))))"
      ],
      "execution_count": 47,
      "outputs": [
        {
          "output_type": "stream",
          "text": [
            "[0. 0. 0. 1. 0. 0. 0. 0. 0. 0.]\n",
            "[[0.0000000e+00 2.4794904e-33 2.3144592e-23 1.0000000e+00 9.0685036e-38\n",
            "  4.3377517e-18 0.0000000e+00 2.5506926e-27 5.1242626e-24 8.1698277e-24]]\n",
            "[3]\n"
          ],
          "name": "stdout"
        },
        {
          "output_type": "stream",
          "text": [
            "/usr/local/lib/python3.7/dist-packages/tensorflow/python/keras/engine/sequential.py:450: UserWarning: `model.predict_classes()` is deprecated and will be removed after 2021-01-01. Please use instead:* `np.argmax(model.predict(x), axis=-1)`,   if your model does multi-class classification   (e.g. if it uses a `softmax` last-layer activation).* `(model.predict(x) > 0.5).astype(\"int32\")`,   if your model does binary classification   (e.g. if it uses a `sigmoid` last-layer activation).\n",
            "  warnings.warn('`model.predict_classes()` is deprecated and '\n"
          ],
          "name": "stderr"
        }
      ]
    },
    {
      "cell_type": "markdown",
      "metadata": {
        "id": "-FeN1Vo3SGie"
      },
      "source": [
        "# Avaliando o Modelo"
      ]
    },
    {
      "cell_type": "code",
      "metadata": {
        "trusted": true,
        "id": "W-3iJGBxSGie"
      },
      "source": [
        "import itertools\n",
        "#Plot the confusion matrix. Set Normalize = True/False\n",
        "def plot_confusion_matrix(cm, classes, normalize=True, title='Confusion matrix', cmap=plt.cm.Blues):\n",
        "    \"\"\"\n",
        "    This function prints and plots the confusion matrix.\n",
        "    Normalization can be applied by setting `normalize=True`.\n",
        "    \"\"\"\n",
        "    plt.figure(figsize=(10,10))\n",
        "    plt.imshow(cm, interpolation='nearest', cmap=cmap)\n",
        "    plt.title(title)\n",
        "    plt.colorbar()\n",
        "    tick_marks = np.arange(len(classes))\n",
        "    plt.xticks(tick_marks, classes, rotation=45)\n",
        "    plt.yticks(tick_marks, classes)\n",
        "    if normalize:\n",
        "        cm = cm.astype('float') / cm.sum(axis=1)[:, np.newaxis]\n",
        "        cm = np.around(cm, decimals=2)\n",
        "        cm[np.isnan(cm)] = 0.0\n",
        "    thresh = cm.max() / 2.\n",
        "    for i, j in itertools.product(range(cm.shape[0]), range(cm.shape[1])):\n",
        "        plt.text(j, i, cm[i, j],\n",
        "                 horizontalalignment=\"center\",\n",
        "                 color=\"white\" if cm[i, j] > thresh else \"black\")\n",
        "    plt.tight_layout()\n",
        "    plt.ylabel('True label')\n",
        "    plt.xlabel('Predicted label')"
      ],
      "execution_count": 48,
      "outputs": []
    },
    {
      "cell_type": "code",
      "metadata": {
        "ExecuteTime": {
          "end_time": "2019-01-08T21:24:57.7654Z",
          "start_time": "2019-01-08T21:24:57.220867Z"
        },
        "trusted": true,
        "colab": {
          "base_uri": "https://localhost:8080/",
          "height": 1000
        },
        "id": "FV-yKSk7SGif",
        "outputId": "70f4fcc7-81f3-4641-b780-bf69f19492de"
      },
      "source": [
        "# Vendo alguns reports\n",
        "# Usando sklearn\n",
        "import numpy as np\n",
        "\n",
        "# Classificando toda base de teste\n",
        "y_pred = model.predict_classes(x_val)\n",
        "# voltando pro formato de classes\n",
        "y_test_c = np.argmax(y_val, axis=1)\n",
        "target_names = ['0', '1', '2', '3', '4', '5', '6', '7', '8', '9']\n",
        "\n",
        "#Confution Matrix\n",
        "cm = confusion_matrix(y_test_c, y_pred)\n",
        "plot_confusion_matrix(cm, target_names, normalize=False, title='Confusion Matrix')\n",
        "\n",
        "print('Classification Report')\n",
        "print(classification_report(y_test_c, y_pred, target_names=target_names))"
      ],
      "execution_count": 49,
      "outputs": [
        {
          "output_type": "stream",
          "text": [
            "/usr/local/lib/python3.7/dist-packages/tensorflow/python/keras/engine/sequential.py:450: UserWarning: `model.predict_classes()` is deprecated and will be removed after 2021-01-01. Please use instead:* `np.argmax(model.predict(x), axis=-1)`,   if your model does multi-class classification   (e.g. if it uses a `softmax` last-layer activation).* `(model.predict(x) > 0.5).astype(\"int32\")`,   if your model does binary classification   (e.g. if it uses a `sigmoid` last-layer activation).\n",
            "  warnings.warn('`model.predict_classes()` is deprecated and '\n"
          ],
          "name": "stderr"
        },
        {
          "output_type": "stream",
          "text": [
            "Classification Report\n",
            "              precision    recall  f1-score   support\n",
            "\n",
            "           0       0.95      0.99      0.97       396\n",
            "           1       0.99      0.97      0.98       488\n",
            "           2       0.95      0.97      0.96       395\n",
            "           3       0.96      0.96      0.96       445\n",
            "           4       0.94      0.96      0.95       441\n",
            "           5       0.91      0.94      0.92       384\n",
            "           6       0.99      0.93      0.96       398\n",
            "           7       0.98      0.93      0.95       428\n",
            "           8       0.94      0.93      0.94       416\n",
            "           9       0.92      0.94      0.93       409\n",
            "\n",
            "    accuracy                           0.95      4200\n",
            "   macro avg       0.95      0.95      0.95      4200\n",
            "weighted avg       0.95      0.95      0.95      4200\n",
            "\n"
          ],
          "name": "stdout"
        },
        {
          "output_type": "display_data",
          "data": {
            "image/png": "[encoded data removed]",
            "text/plain": [
              "<Figure size 720x720 with 2 Axes>"
            ]
          },
          "metadata": {
            "tags": [],
            "needs_background": "light"
          }
        }
      ]
    },
    {
      "cell_type": "markdown",
      "metadata": {
        "id": "aE6Sz4qzSGig"
      },
      "source": [
        "# Gerando Saída"
      ]
    },
    {
      "cell_type": "code",
      "metadata": {
        "trusted": true,
        "colab": {
          "base_uri": "https://localhost:8080/",
          "height": 540
        },
        "id": "Av-pKODQSGih",
        "outputId": "d443a233-a977-4317-e225-aa916a9aa06a"
      },
      "source": [
        "# Gerando saída para dataset de teste\n",
        "\n",
        "#Carrega dataset de teste\n",
        "test = pd.read_csv(\"input/test.csv\")\n",
        "print(\"Qtde de testes: {}\".format(len(test)))\n",
        "# Bota no formato numpy e normaliza\n",
        "x_test = test.values.reshape(len(test),784)\n",
        "x_test = x_test.astype('float32')\n",
        "x_test /= 255\n",
        "\n",
        "# Faz classificação para dataset de teste\n",
        "y_pred = model.predict_classes(x_test)\n",
        "\n",
        "# Verficando algum exemplo\n",
        "i = 0\n",
        "plt.imshow(test.values[i].reshape(28,28), cmap=plt.cm.binary)\n",
        "plt.show()\n",
        "print('Previsto: {}'.format(y_pred[i]))\n",
        "\n",
        "# Botando no formato de saída (competição Kaggle)\n",
        "results = pd.Series(y_pred,name=\"Label\")\n",
        "submission = pd.concat([pd.Series(range(1,len(y_pred)+1),name = \"ImageId\"),results],axis = 1)\n",
        "print(submission.head(10))\n",
        "#Salvando Arquivo\n",
        "submission.to_csv(\"mlp_mnist_v1.csv\",index=False)"
      ],
      "execution_count": 50,
      "outputs": [
        {
          "output_type": "stream",
          "text": [
            "Qtde de testes: 28000\n"
          ],
          "name": "stdout"
        },
        {
          "output_type": "stream",
          "text": [
            "/usr/local/lib/python3.7/dist-packages/tensorflow/python/keras/engine/sequential.py:450: UserWarning: `model.predict_classes()` is deprecated and will be removed after 2021-01-01. Please use instead:* `np.argmax(model.predict(x), axis=-1)`,   if your model does multi-class classification   (e.g. if it uses a `softmax` last-layer activation).* `(model.predict(x) > 0.5).astype(\"int32\")`,   if your model does binary classification   (e.g. if it uses a `sigmoid` last-layer activation).\n",
            "  warnings.warn('`model.predict_classes()` is deprecated and '\n"
          ],
          "name": "stderr"
        },
        {
          "output_type": "display_data",
          "data": {
            "image/png": "[encoded data removed]",
            "text/plain": [
              "<Figure size 432x288 with 1 Axes>"
            ]
          },
          "metadata": {
            "tags": [],
            "needs_background": "light"
          }
        },
        {
          "output_type": "stream",
          "text": [
            "Previsto: 2\n",
            "   ImageId  Label\n",
            "0        1      2\n",
            "1        2      0\n",
            "2        3      9\n",
            "3        4      4\n",
            "4        5      3\n",
            "5        6      7\n",
            "6        7      0\n",
            "7        8      3\n",
            "8        9      0\n",
            "9       10      3\n"
          ],
          "name": "stdout"
        }
      ]
    },
    {
      "cell_type": "markdown",
      "metadata": {
        "id": "JDxhTQl3SGii"
      },
      "source": [
        "# Teste Adicional: Com ruído"
      ]
    },
    {
      "cell_type": "code",
      "metadata": {
        "trusted": true,
        "colab": {
          "base_uri": "https://localhost:8080/",
          "height": 299
        },
        "id": "4FSS1JdbSGij",
        "outputId": "11dc9aa7-8b75-4dc5-a337-83b6d0fc8194"
      },
      "source": [
        "#introduzindo ruido\n",
        "import numpy as np\n",
        "mean = 0.\n",
        "stddev = 0.2\n",
        "noise = np.random.normal(mean, stddev, (4200, 784))\n",
        "x_te = x_val + noise\n",
        "x_te = np.clip(x_te, 0., 1.)\n",
        "\n",
        "plt.imshow(x_te.reshape(4200, 28,28)[0], cmap=plt.cm.binary)\n",
        "plt.show()\n",
        "\n",
        "# Testa\n",
        "score = model.evaluate(x_te, y_val, verbose=0)\n",
        "print('Test loss:', score[0])\n",
        "print('Test accuracy:', score[1])"
      ],
      "execution_count": 51,
      "outputs": [
        {
          "output_type": "display_data",
          "data": {
            "image/png": "[encoded data removed]",
            "text/plain": [
              "<Figure size 432x288 with 1 Axes>"
            ]
          },
          "metadata": {
            "tags": [],
            "needs_background": "light"
          }
        },
        {
          "output_type": "stream",
          "text": [
            "Test loss: 1.2800720930099487\n",
            "Test accuracy: 0.642380952835083\n"
          ],
          "name": "stdout"
        }
      ]
    },
    {
      "cell_type": "markdown",
      "metadata": {
        "id": "_WBttfKCSGij"
      },
      "source": [
        "Com ruído, percebemos que a acurácia dos exemplos de validação caiu muito. \n",
        "Uma MLP aprende a partir de pixels individuais.\n",
        "Um modelo Convolucional (CNN) captura melhor regiões, ou padrões espaciais de pixels.\n",
        "Veja o exemplo com CNN."
      ]
    },
    {
      "cell_type": "code",
      "metadata": {
        "trusted": true,
        "id": "OOHzId7ISGik"
      },
      "source": [
        ""
      ],
      "execution_count": null,
      "outputs": []
    }
  ]
}